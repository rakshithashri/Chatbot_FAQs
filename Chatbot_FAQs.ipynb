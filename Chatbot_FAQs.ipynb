{
  "nbformat": 4,
  "nbformat_minor": 0,
  "metadata": {
    "colab": {
      "provenance": [],
      "authorship_tag": "ABX9TyOsMkmfnKZ8SNHE6sieV2Pi",
      "include_colab_link": true
    },
    "kernelspec": {
      "name": "python3",
      "display_name": "Python 3"
    },
    "language_info": {
      "name": "python"
    }
  },
  "cells": [
    {
      "cell_type": "markdown",
      "metadata": {
        "id": "view-in-github",
        "colab_type": "text"
      },
      "source": [
        "<a href=\"https://colab.research.google.com/github/rakshithashri/Chatbot_FAQs/blob/main/Chatbot_FAQs.ipynb\" target=\"_parent\"><img src=\"https://colab.research.google.com/assets/colab-badge.svg\" alt=\"Open In Colab\"/></a>"
      ]
    },
    {
      "cell_type": "code",
      "execution_count": null,
      "metadata": {
        "colab": {
          "base_uri": "https://localhost:8080/"
        },
        "id": "sDxIDHa4ecn3",
        "outputId": "98c99eb3-9523-4d2d-fa44-dd67e0ff534f"
      },
      "outputs": [
        {
          "output_type": "stream",
          "name": "stdout",
          "text": [
            "Requirement already satisfied: nltk in /usr/local/lib/python3.10/dist-packages (3.8.1)\n",
            "Requirement already satisfied: click in /usr/local/lib/python3.10/dist-packages (from nltk) (8.1.7)\n",
            "Requirement already satisfied: joblib in /usr/local/lib/python3.10/dist-packages (from nltk) (1.4.2)\n",
            "Requirement already satisfied: regex>=2021.8.3 in /usr/local/lib/python3.10/dist-packages (from nltk) (2023.12.25)\n",
            "Requirement already satisfied: tqdm in /usr/local/lib/python3.10/dist-packages (from nltk) (4.66.4)\n"
          ]
        }
      ],
      "source": [
        "pip install nltk\n"
      ]
    },
    {
      "cell_type": "code",
      "source": [
        "import nltk\n",
        "from nltk.tokenize import word_tokenize\n",
        "from nltk.corpus import stopwords\n",
        "from nltk.stem import WordNetLemmatizer\n",
        "import string\n",
        "\n",
        "# Download NLTK data\n",
        "nltk.download('punkt')\n",
        "nltk.download('stopwords')\n",
        "nltk.download('wordnet')\n",
        "\n",
        "# Sample FAQs\n",
        "faqs = {\n",
        "    \"What is your return policy?\": \"Our return policy allows returns within 30 days of purchase.\",\n",
        "    \"How can I track my order?\": \"You can track your order using the tracking link sent to your email.\",\n",
        "    \"Do you offer customer support?\": \"Yes, we offer 24/7 customer support. You can reach us via phone or email.\",\n",
        "    \"What payment methods do you accept?\": \"We accept Visa, MasterCard, American Express, and PayPal.\",\n",
        "    \"How can I contact customer service?\": \"You can contact our customer service via email at support@example.com or call us at 123-456-7890.\"\n",
        "}\n",
        "\n",
        "lemmatizer = WordNetLemmatizer()\n",
        "stop_words = set(stopwords.words('english'))\n",
        "\n",
        "def preprocess_text(text):\n",
        "    text = text.lower()\n",
        "    text = text.translate(str.maketrans('', '', string.punctuation))\n",
        "    tokens = word_tokenize(text)\n",
        "    tokens = [lemmatizer.lemmatize(token) for token in tokens if token not in stop_words]\n",
        "    return tokens\n",
        "\n",
        "def find_best_match(question, faqs):\n",
        "    question_tokens = preprocess_text(question)\n",
        "    best_match = None\n",
        "    max_overlap = 0\n",
        "\n",
        "    for faq in faqs:\n",
        "        faq_tokens = preprocess_text(faq)\n",
        "        overlap = len(set(question_tokens).intersection(faq_tokens))\n",
        "        if overlap > max_overlap:\n",
        "            max_overlap = overlap\n",
        "            best_match = faq\n",
        "\n",
        "    return best_match\n",
        "\n",
        "def chatbot(question):\n",
        "    best_match = find_best_match(question, faqs)\n",
        "    if best_match:\n",
        "        return faqs[best_match]\n",
        "    else:\n",
        "        return \"I'm sorry, I don't understand your question. Can you please rephrase?\"\n",
        "\n",
        "if __name__ == \"__main__\":\n",
        "    print(\"Welcome to the FAQ Chatbot. Ask me anything!\")\n",
        "    while True:\n",
        "        user_input = input(\"You: \")\n",
        "        if user_input.lower() in [\"exit\", \"quit\", \"bye\"]:\n",
        "            print(\"Chatbot: Goodbye!\")\n",
        "            break\n",
        "        response = chatbot(user_input)\n",
        "        print(f\"Chatbot: {response}\")\n"
      ],
      "metadata": {
        "colab": {
          "base_uri": "https://localhost:8080/"
        },
        "id": "gxg2NXn0fKmd",
        "outputId": "308e1fd9-a0ca-4110-fff7-f687869678e2"
      },
      "execution_count": null,
      "outputs": [
        {
          "output_type": "stream",
          "name": "stderr",
          "text": [
            "[nltk_data] Downloading package punkt to /root/nltk_data...\n",
            "[nltk_data]   Package punkt is already up-to-date!\n",
            "[nltk_data] Downloading package stopwords to /root/nltk_data...\n",
            "[nltk_data]   Package stopwords is already up-to-date!\n",
            "[nltk_data] Downloading package wordnet to /root/nltk_data...\n",
            "[nltk_data]   Package wordnet is already up-to-date!\n"
          ]
        },
        {
          "output_type": "stream",
          "name": "stdout",
          "text": [
            "Welcome to the FAQ Chatbot. Ask me anything!\n",
            "You: What  i sthe return policy \n",
            "Chatbot: Our return policy allows returns within 30 days of purchase.\n",
            "You: How can I track my order?\n",
            "Chatbot: You can track your order using the tracking link sent to your email.\n",
            "You: Bye \n",
            "Chatbot: I'm sorry, I don't understand your question. Can you please rephrase?\n",
            "You: bye\n",
            "Chatbot: Goodbye!\n"
          ]
        }
      ]
    },
    {
      "cell_type": "code",
      "source": [],
      "metadata": {
        "id": "y7aEs_vugOok"
      },
      "execution_count": null,
      "outputs": []
    }
  ]
}